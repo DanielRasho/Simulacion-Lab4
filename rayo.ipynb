{
 "cells": [
  {
   "cell_type": "markdown",
   "id": "e73e64ae",
   "metadata": {},
   "source": [
    "# Laboratorio 4\n",
    "- Daniel Alfredo Rayo Roldán\n",
    "- Andre Yatmian Jo\n",
    "- Flavio André Galán Donis"
   ]
  },
  {
   "cell_type": "code",
   "execution_count": 2,
   "id": "52f03773",
   "metadata": {},
   "outputs": [],
   "source": [
    "import numpy as np\n",
    "import matplotlib.pyplot as plt\n",
    "import random\n",
    "from matplotlib.animation import FuncAnimation\n",
    "import time\n",
    "import copy"
   ]
  },
  {
   "cell_type": "markdown",
   "id": "8ebbbf7f",
   "metadata": {},
   "source": [
    "### Parámetros globales"
   ]
  },
  {
   "cell_type": "code",
   "execution_count": null,
   "id": "cc6c07fc",
   "metadata": {},
   "outputs": [],
   "source": [
    "N = 100\n",
    "MAX_ITER = 500\n",
    "SELECTION_PERCENTAGE = 0.3\n",
    "MUTATION_PERCENTAGE = 0.2\n",
    "CROSSOVER_PERCENTAGE = 0.7"
   ]
  },
  {
   "cell_type": "markdown",
   "id": "053b3bf2",
   "metadata": {},
   "source": [
    "### Cargado de datos"
   ]
  },
  {
   "cell_type": "code",
   "execution_count": 5,
   "id": "3b7807d2",
   "metadata": {},
   "outputs": [],
   "source": [
    "# TODO: Andre cambia esto por tus funciones y guardalo en esta variable\n",
    "ADJACENCY_MATRIX = np.array([\n",
    "    [0, 29, 20, 21, 16, 31, 100, 12, 4, 31],\n",
    "    [29, 0, 15, 29, 28, 40, 72, 21, 29, 41],\n",
    "    [20, 15, 0, 15, 14, 25, 81, 9, 23, 27],\n",
    "    [21, 29, 15, 0, 4, 12, 92, 12, 25, 13],\n",
    "    [16, 28, 14, 4, 0, 16, 94, 9, 20, 16],\n",
    "    [31, 40, 25, 12, 16, 0, 95, 24, 36, 3],\n",
    "    [100, 72, 81, 92, 94, 95, 0, 90, 101, 99],\n",
    "    [12, 21, 9, 12, 9, 24, 90, 0, 15, 25],\n",
    "    [4, 31, 23, 25, 20, 36, 101, 15, 0, 35],\n",
    "    [31, 41, 27, 13, 16, 3, 99, 25, 35, 0]\n",
    "])"
   ]
  },
  {
   "cell_type": "code",
   "execution_count": null,
   "id": "17344124",
   "metadata": {},
   "outputs": [],
   "source": [
    "NUM_CITIES = len(ADJACENCY_MATRIX)"
   ]
  },
  {
   "cell_type": "markdown",
   "id": "88ee5867",
   "metadata": {},
   "source": [
    "## Algoritmos de genético"
   ]
  },
  {
   "cell_type": "code",
   "execution_count": null,
   "id": "9cac80b8",
   "metadata": {},
   "outputs": [],
   "source": [
    "def calculate_route_distance(route, adj_matrix):\n",
    "    distance = 0\n",
    "    for i in range(len(route)):\n",
    "        from_city = route[i]\n",
    "        to_city = route[(i + 1) % len(route)]\n",
    "        distance += adj_matrix[from_city][to_city]\n",
    "    return distance\n",
    "\n",
    "def create_random_route():\n",
    "    route = list(range(NUM_CITIES))\n",
    "    random.shuffle(route)\n",
    "    return route"
   ]
  }
 ],
 "metadata": {
  "kernelspec": {
   "display_name": ".venv",
   "language": "python",
   "name": "python3"
  },
  "language_info": {
   "codemirror_mode": {
    "name": "ipython",
    "version": 3
   },
   "file_extension": ".py",
   "mimetype": "text/x-python",
   "name": "python",
   "nbconvert_exporter": "python",
   "pygments_lexer": "ipython3",
   "version": "3.13.5"
  }
 },
 "nbformat": 4,
 "nbformat_minor": 5
}
